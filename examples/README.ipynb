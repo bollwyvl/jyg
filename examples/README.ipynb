{
 "cells": [
  {
   "cell_type": "markdown",
   "id": "e35f1ad5-bbf0-4ea2-8df3-39b65f4d5631",
   "metadata": {},
   "source": [
    "# jyg\n",
    "\n",
    "> run Jupyter browser client commands from a CLI, REST API, or other browser windows"
   ]
  }
 ],
 "metadata": {
  "kernelspec": {
   "display_name": "Python 3 (ipykernel)",
   "language": "python",
   "name": "python3"
  },
  "language_info": {
   "codemirror_mode": {
    "name": "ipython",
    "version": 3
   },
   "file_extension": ".py",
   "mimetype": "text/x-python",
   "name": "python",
   "nbconvert_exporter": "python",
   "pygments_lexer": "ipython3",
   "version": "3.11.0"
  }
 },
 "nbformat": 4,
 "nbformat_minor": 5
}
